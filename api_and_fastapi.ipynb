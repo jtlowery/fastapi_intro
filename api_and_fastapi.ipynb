{
 "cells": [
  {
   "cell_type": "markdown",
   "id": "sustainable-surgery",
   "metadata": {
    "slideshow": {
     "slide_type": "slide"
    },
    "tags": []
   },
   "source": [
    "# APIs and FastAPI (part 1)"
   ]
  },
  {
   "cell_type": "markdown",
   "id": "incorporate-energy",
   "metadata": {
    "slideshow": {
     "slide_type": "slide"
    },
    "tags": []
   },
   "source": [
    "# APIs"
   ]
  },
  {
   "cell_type": "markdown",
   "id": "unable-metadata",
   "metadata": {
    "slideshow": {
     "slide_type": "slide"
    },
    "tags": []
   },
   "source": [
    "## HTTP request methods (aka HTTP verbs)\n",
    "(https://developer.mozilla.org/en-US/docs/Web/HTTP/Methods)"
   ]
  },
  {
   "cell_type": "markdown",
   "id": "classical-handy",
   "metadata": {
    "slideshow": {
     "slide_type": "fragment"
    },
    "tags": []
   },
   "source": [
    "### GET\n",
    "- requests a representation of the specified resource\n",
    "- only retrieves data"
   ]
  },
  {
   "cell_type": "markdown",
   "id": "fleet-marks",
   "metadata": {
    "slideshow": {
     "slide_type": "fragment"
    },
    "tags": []
   },
   "source": [
    "### POST\n",
    "- used to submit an entity to specified resource\n",
    "- often causes change or side effects on server"
   ]
  },
  {
   "cell_type": "markdown",
   "id": "permanent-cheese",
   "metadata": {
    "slideshow": {
     "slide_type": "fragment"
    },
    "tags": []
   },
   "source": [
    "### PUT\n",
    "- replaces all current representations of target resource with the request payload"
   ]
  },
  {
   "cell_type": "markdown",
   "id": "nearby-juvenile",
   "metadata": {
    "slideshow": {
     "slide_type": "fragment"
    },
    "tags": []
   },
   "source": [
    "### DELETE\n",
    "- deletes the specified resource"
   ]
  },
  {
   "cell_type": "markdown",
   "id": "directed-thanks",
   "metadata": {
    "slideshow": {
     "slide_type": "fragment"
    },
    "tags": []
   },
   "source": [
    "### PATCH\n",
    "- applies partial modifications to a resource"
   ]
  },
  {
   "cell_type": "markdown",
   "id": "tamil-damages",
   "metadata": {
    "slideshow": {
     "slide_type": "slide"
    },
    "tags": []
   },
   "source": [
    "## HTTP Status Codes\n",
    "(https://httpstatuses.com/)\n",
    "- 1×× Informational\n",
    "- 2×× Success\n",
    "- 3×× Redirection\n",
    "- 4×× Client Error\n",
    "- 5×× Server Error"
   ]
  },
  {
   "cell_type": "markdown",
   "id": "lasting-plumbing",
   "metadata": {
    "slideshow": {
     "slide_type": "slide"
    },
    "tags": []
   },
   "source": [
    "## JSON Schema\n",
    "(https://json-schema.org/)\n",
    "- vocabulary that allows you to annotate and validate JSON documents\n",
    "- benefits:\n",
    "    - describes existing format(s)\n",
    "    - human-readable and machine-readable documentation\n",
    "    - provides way to validate data\n",
    "- a JSON Schema itself is written in JSON\n",
    "- uses JSON types (string, number, object, array, boolean, null)"
   ]
  },
  {
   "cell_type": "markdown",
   "id": "expected-capacity",
   "metadata": {
    "slideshow": {
     "slide_type": "subslide"
    },
    "tags": []
   },
   "source": [
    "## Example"
   ]
  },
  {
   "cell_type": "code",
   "execution_count": 1,
   "id": "christian-mailman",
   "metadata": {
    "slideshow": {
     "slide_type": "fragment"
    },
    "tags": []
   },
   "outputs": [],
   "source": [
    "from jsonschema import validate\n",
    "\n",
    "household_schema = {\n",
    "    \"type\": \"object\",\n",
    "    \"properties\": {\n",
    "        \"id\": {\"type\": \"number\"},\n",
    "        \"street_address\": {\"type\": \"string\"},\n",
    "        \"city\": {\"type\": \"string\"},\n",
    "        \"state\": {\"type\": \"string\"},\n",
    "        \"zipcode\": {\"type\": \"string\"},\n",
    "        \"occupants\": {\n",
    "            \"type\": \"array\",\n",
    "            \"items\": {\n",
    "                \"type\": \"object\",\n",
    "                \"properties\": {\n",
    "                    \"name\": {\"type\": \"string\"},\n",
    "                    \"age\": {\"type\": \"number\"}\n",
    "                }\n",
    "            }\n",
    "        }\n",
    "    }\n",
    "}"
   ]
  },
  {
   "cell_type": "code",
   "execution_count": 2,
   "id": "greatest-place",
   "metadata": {
    "slideshow": {
     "slide_type": "subslide"
    },
    "tags": []
   },
   "outputs": [],
   "source": [
    "household = {\n",
    "    \"id\": 1,\n",
    "    \"street_address\": \"123 Oak St\",\n",
    "    \"city\": \"Philadelphia\",\n",
    "    \"state\": \"PA\",\n",
    "    \"zipcode\": \"19147\",\n",
    "    \"occupants\": [\n",
    "        {\"name\": \"John Smith\", \"age\": 25},\n",
    "        {\"name\": \"John Doe\", \"age\": 27},\n",
    "    ]\n",
    "}\n",
    "validate(instance=household, schema=household_schema)"
   ]
  },
  {
   "cell_type": "code",
   "execution_count": 3,
   "id": "consolidated-silicon",
   "metadata": {
    "slideshow": {
     "slide_type": "subslide"
    },
    "tags": []
   },
   "outputs": [
    {
     "ename": "ValidationError",
     "evalue": "'NAN' is not of type 'number'\n\nFailed validating 'type' in schema['properties']['id']:\n    {'type': 'number'}\n\nOn instance['id']:\n    'NAN'",
     "output_type": "error",
     "traceback": [
      "\u001b[0;31m---------------------------------------------------------------------------\u001b[0m",
      "\u001b[0;31mValidationError\u001b[0m                           Traceback (most recent call last)",
      "\u001b[0;32m<ipython-input-3-38de824e50d4>\u001b[0m in \u001b[0;36m<module>\u001b[0;34m\u001b[0m\n\u001b[1;32m      1\u001b[0m \u001b[0mhousehold\u001b[0m\u001b[0;34m[\u001b[0m\u001b[0;34m\"id\"\u001b[0m\u001b[0;34m]\u001b[0m \u001b[0;34m=\u001b[0m \u001b[0;34m\"NAN\"\u001b[0m\u001b[0;34m\u001b[0m\u001b[0;34m\u001b[0m\u001b[0m\n\u001b[0;32m----> 2\u001b[0;31m \u001b[0mvalidate\u001b[0m\u001b[0;34m(\u001b[0m\u001b[0mhousehold\u001b[0m\u001b[0;34m,\u001b[0m \u001b[0mhousehold_schema\u001b[0m\u001b[0;34m)\u001b[0m\u001b[0;34m\u001b[0m\u001b[0;34m\u001b[0m\u001b[0m\n\u001b[0m",
      "\u001b[0;32m~/installs/miniconda3/envs/fastapi_intro/lib/python3.9/site-packages/jsonschema/validators.py\u001b[0m in \u001b[0;36mvalidate\u001b[0;34m(instance, schema, cls, *args, **kwargs)\u001b[0m\n\u001b[1;32m    932\u001b[0m     \u001b[0merror\u001b[0m \u001b[0;34m=\u001b[0m \u001b[0mexceptions\u001b[0m\u001b[0;34m.\u001b[0m\u001b[0mbest_match\u001b[0m\u001b[0;34m(\u001b[0m\u001b[0mvalidator\u001b[0m\u001b[0;34m.\u001b[0m\u001b[0miter_errors\u001b[0m\u001b[0;34m(\u001b[0m\u001b[0minstance\u001b[0m\u001b[0;34m)\u001b[0m\u001b[0;34m)\u001b[0m\u001b[0;34m\u001b[0m\u001b[0;34m\u001b[0m\u001b[0m\n\u001b[1;32m    933\u001b[0m     \u001b[0;32mif\u001b[0m \u001b[0merror\u001b[0m \u001b[0;32mis\u001b[0m \u001b[0;32mnot\u001b[0m \u001b[0;32mNone\u001b[0m\u001b[0;34m:\u001b[0m\u001b[0;34m\u001b[0m\u001b[0;34m\u001b[0m\u001b[0m\n\u001b[0;32m--> 934\u001b[0;31m         \u001b[0;32mraise\u001b[0m \u001b[0merror\u001b[0m\u001b[0;34m\u001b[0m\u001b[0;34m\u001b[0m\u001b[0m\n\u001b[0m\u001b[1;32m    935\u001b[0m \u001b[0;34m\u001b[0m\u001b[0m\n\u001b[1;32m    936\u001b[0m \u001b[0;34m\u001b[0m\u001b[0m\n",
      "\u001b[0;31mValidationError\u001b[0m: 'NAN' is not of type 'number'\n\nFailed validating 'type' in schema['properties']['id']:\n    {'type': 'number'}\n\nOn instance['id']:\n    'NAN'"
     ]
    }
   ],
   "source": [
    "household[\"id\"] = \"NAN\"\n",
    "validate(household, household_schema)"
   ]
  },
  {
   "cell_type": "markdown",
   "id": "personalized-premium",
   "metadata": {
    "slideshow": {
     "slide_type": "slide"
    },
    "tags": []
   },
   "source": [
    "## OpenAPI Specification (OAS)\n",
    "(https://swagger.io/specification/)\n",
    "- formerly known as Swagger Specification; Swagger refers to a set of tools around OAS\n",
    "- API description format for REST APIs\n",
    "- describes:\n",
    "    - endpoints (e.g. /users)\n",
    "    - operations on each endpoint (e.g. GET /users)\n",
    "    - authentication methods\n",
    "    - contact info, license, etc.\n",
    "- can be written in YAML or JSON"
   ]
  },
  {
   "cell_type": "markdown",
   "id": "unlimited-recorder",
   "metadata": {
    "slideshow": {
     "slide_type": "subslide"
    },
    "tags": []
   },
   "source": [
    "### Examples\n",
    "- https://github.com/OAI/OpenAPI-Specification/tree/master/examples/v3.0"
   ]
  },
  {
   "cell_type": "markdown",
   "id": "governing-validity",
   "metadata": {
    "slideshow": {
     "slide_type": "subslide"
    },
    "tags": []
   },
   "source": [
    "### Why use OAS?\n",
    "- collaborate on API design\n",
    "- codegen tool to generate code from spec (stubs for server-side logic, mock server, etc.)\n",
    "- generation of interactive API documentation\n",
    "- connect tools that are compatible with spec\n",
    "- use for quality validation"
   ]
  },
  {
   "cell_type": "markdown",
   "id": "effective-magnitude",
   "metadata": {
    "slideshow": {
     "slide_type": "slide"
    },
    "tags": []
   },
   "source": [
    "# FastAPI"
   ]
  },
  {
   "cell_type": "markdown",
   "id": "brave-structure",
   "metadata": {
    "slideshow": {
     "slide_type": "slide"
    },
    "tags": []
   },
   "source": [
    "\"modern, fast (high-performance), web framework for building APIs with Python 3.6+ based on standard Python type hints\"\n",
    "(https://fastapi.tiangolo.com/)\n",
    "\n",
    "### Why use?\n",
    "- very performant\n",
    "- quick to code\n",
    "- reduces human errors\n",
    "- production-ready code w/ automatic documentation\n",
    "- based on OpenAPI and JSON schema\n",
    "- built using Starlette and Pydantic"
   ]
  },
  {
   "cell_type": "markdown",
   "id": "marked-escape",
   "metadata": {
    "slideshow": {
     "slide_type": "subslide"
    },
    "tags": []
   },
   "source": [
    "## Starlette"
   ]
  },
  {
   "cell_type": "markdown",
   "id": "affiliated-physiology",
   "metadata": {
    "slideshow": {
     "slide_type": "fragment"
    },
    "tags": []
   },
   "source": [
    "\"lightweight ASGI framework/toolkit, which is ideal for building high performance asyncio services\"\n",
    "(https://www.starlette.io/)"
   ]
  },
  {
   "cell_type": "markdown",
   "id": "hollywood-object",
   "metadata": {
    "slideshow": {
     "slide_type": "subslide"
    },
    "tags": []
   },
   "source": [
    "- WSGI\n",
    "    - Web Server Gateway Interface\n",
    "    - convention for web servers to forward requests to web apps or frameworks written in Python (PEP 3333)\n",
    "    - example WSGI servers: Gunicorn, mod_wsgi, uWSGI"
   ]
  },
  {
   "cell_type": "markdown",
   "id": "inside-concept",
   "metadata": {
    "slideshow": {
     "slide_type": "subslide"
    },
    "tags": []
   },
   "source": [
    "- ASGI\n",
    "    - Asynchronous Server Gateway Interface\n",
    "    - provides standard for asynchronous and synchronous apps\n",
    "    - example ASGI servers: daphne, uvicorn, hypercorn"
   ]
  },
  {
   "cell_type": "markdown",
   "id": "practical-verse",
   "metadata": {
    "slideshow": {
     "slide_type": "subslide"
    },
    "tags": []
   },
   "source": [
    "## Pydantic"
   ]
  },
  {
   "cell_type": "markdown",
   "id": "synthetic-wheel",
   "metadata": {
    "slideshow": {
     "slide_type": "fragment"
    },
    "tags": []
   },
   "source": [
    "\"Data validation and settings management using python type annotations\"\n",
    "(https://pydantic-docs.helpmanual.io/)"
   ]
  },
  {
   "cell_type": "code",
   "execution_count": 4,
   "id": "bigger-budapest",
   "metadata": {
    "slideshow": {
     "slide_type": "subslide"
    },
    "tags": []
   },
   "outputs": [
    {
     "data": {
      "text/plain": [
       "{'id': 123,\n",
       " 'signup_ts': datetime.datetime(2019, 6, 1, 12, 22),\n",
       " 'friends': [1, 2, 3],\n",
       " 'name': 'John Doe'}"
      ]
     },
     "execution_count": 4,
     "metadata": {},
     "output_type": "execute_result"
    }
   ],
   "source": [
    "# Example use from docs\n",
    "from datetime import datetime\n",
    "from typing import List, Optional\n",
    "from pydantic import BaseModel\n",
    "\n",
    "\n",
    "class User(BaseModel):\n",
    "    id: int\n",
    "    name = 'John Doe'\n",
    "    signup_ts: Optional[datetime] = None\n",
    "    friends: List[int] = []\n",
    "\n",
    "\n",
    "external_data = {\n",
    "    'id': '123',\n",
    "    'signup_ts': '2019-06-01 12:22',\n",
    "    'friends': [1, 2, '3'],\n",
    "}\n",
    "user = User(**external_data)\n",
    "user.dict()"
   ]
  },
  {
   "cell_type": "code",
   "execution_count": 5,
   "id": "pleased-member",
   "metadata": {
    "slideshow": {
     "slide_type": "subslide"
    },
    "tags": []
   },
   "outputs": [
    {
     "name": "stdout",
     "output_type": "stream",
     "text": [
      "[\n",
      "  {\n",
      "    \"loc\": [\n",
      "      \"id\"\n",
      "    ],\n",
      "    \"msg\": \"field required\",\n",
      "    \"type\": \"value_error.missing\"\n",
      "  },\n",
      "  {\n",
      "    \"loc\": [\n",
      "      \"signup_ts\"\n",
      "    ],\n",
      "    \"msg\": \"invalid datetime format\",\n",
      "    \"type\": \"value_error.datetime\"\n",
      "  },\n",
      "  {\n",
      "    \"loc\": [\n",
      "      \"friends\",\n",
      "      2\n",
      "    ],\n",
      "    \"msg\": \"value is not a valid integer\",\n",
      "    \"type\": \"type_error.integer\"\n",
      "  }\n",
      "]\n"
     ]
    }
   ],
   "source": [
    "# example error from docs\n",
    "from pydantic import ValidationError\n",
    "\n",
    "try:\n",
    "    User(signup_ts='broken', friends=[1, 2, 'not number'])\n",
    "except ValidationError as e:\n",
    "    print(e.json())"
   ]
  },
  {
   "cell_type": "markdown",
   "id": "recent-victoria",
   "metadata": {
    "slideshow": {
     "slide_type": "subslide"
    },
    "tags": []
   },
   "source": [
    "### Why use?\n",
    "- simple, leverages existing type hints\n",
    "- aids auto-completion, linting, etc. as type hints do\n",
    "- can be used to validate request data and to load system settings\n",
    "- works with complex structures: recursive models and custom validators\n",
    "- can add custom data types to extend `typing`'s"
   ]
  },
  {
   "cell_type": "code",
   "execution_count": 6,
   "id": "initial-carpet",
   "metadata": {
    "slideshow": {
     "slide_type": "subslide"
    },
    "tags": []
   },
   "outputs": [
    {
     "name": "stdout",
     "output_type": "stream",
     "text": [
      "foo=Foo(count=4, size=None) bars=[Bar(apple='x1', banana='y'), Bar(apple='x2', banana='y')] \n",
      "\n",
      "{'foo': {'count': 4, 'size': None}, 'bars': [{'apple': 'x1', 'banana': 'y'}, {'apple': 'x2', 'banana': 'y'}]}\n"
     ]
    }
   ],
   "source": [
    "# Recursive Example from docs\n",
    "from typing import List\n",
    "from pydantic import BaseModel\n",
    "\n",
    "\n",
    "class Foo(BaseModel):\n",
    "    count: int\n",
    "    size: float = None\n",
    "\n",
    "\n",
    "class Bar(BaseModel):\n",
    "    apple = 'x'\n",
    "    banana = 'y'\n",
    "\n",
    "\n",
    "class Spam(BaseModel):\n",
    "    foo: Foo\n",
    "    bars: List[Bar]\n",
    "\n",
    "\n",
    "m = Spam(foo={'count': 4}, bars=[{'apple': 'x1'}, {'apple': 'x2'}])\n",
    "print(m, \"\\n\")\n",
    "print(m.dict())"
   ]
  },
  {
   "cell_type": "code",
   "execution_count": 7,
   "id": "changed-allowance",
   "metadata": {
    "slideshow": {
     "slide_type": "subslide"
    },
    "tags": []
   },
   "outputs": [
    {
     "name": "stdout",
     "output_type": "stream",
     "text": [
      "name='Samuel Colvin' username='scolvin' password1='zxcvbn' password2='zxcvbn' \n",
      "\n",
      "2 validation errors for UserModel\n",
      "name\n",
      "  must contain a space (type=value_error)\n",
      "password2\n",
      "  passwords do not match (type=value_error)\n"
     ]
    }
   ],
   "source": [
    "# Validator Example from docs\n",
    "from pydantic import BaseModel, ValidationError, validator\n",
    "\n",
    "\n",
    "class UserModel(BaseModel):\n",
    "    name: str\n",
    "    username: str\n",
    "    password1: str\n",
    "    password2: str\n",
    "\n",
    "    @validator('name')\n",
    "    def name_must_contain_space(cls, v):\n",
    "        if ' ' not in v:\n",
    "            raise ValueError('must contain a space')\n",
    "        return v.title()\n",
    "\n",
    "    @validator('password2')\n",
    "    def passwords_match(cls, v, values, **kwargs):\n",
    "        if 'password1' in values and v != values['password1']:\n",
    "            raise ValueError('passwords do not match')\n",
    "        return v\n",
    "\n",
    "    @validator('username')\n",
    "    def username_alphanumeric(cls, v):\n",
    "        assert v.isalnum(), 'must be alphanumeric'\n",
    "        return v\n",
    "\n",
    "\n",
    "user = UserModel(\n",
    "    name='samuel colvin',\n",
    "    username='scolvin',\n",
    "    password1='zxcvbn',\n",
    "    password2='zxcvbn',\n",
    ")\n",
    "print(user, \"\\n\")\n",
    "try:\n",
    "    UserModel(\n",
    "        name='samuel',\n",
    "        username='scolvin',\n",
    "        password1='zxcvbn',\n",
    "        password2='zxcvbn2',\n",
    "    )\n",
    "except ValidationError as e:\n",
    "    print(e)"
   ]
  }
 ],
 "metadata": {
  "kernelspec": {
   "display_name": "Python 3",
   "language": "python",
   "name": "python3"
  },
  "language_info": {
   "codemirror_mode": {
    "name": "ipython",
    "version": 3
   },
   "file_extension": ".py",
   "mimetype": "text/x-python",
   "name": "python",
   "nbconvert_exporter": "python",
   "pygments_lexer": "ipython3",
   "version": "3.9.2"
  },
  "toc-showtags": false
 },
 "nbformat": 4,
 "nbformat_minor": 5
}
